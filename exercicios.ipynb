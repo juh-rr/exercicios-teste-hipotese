{
 "cells": [
  {
   "cell_type": "code",
   "execution_count": 71,
   "metadata": {},
   "outputs": [],
   "source": [
    "import scipy.stats as stats\n",
    "import pandas as pd\n",
    "import matplotlib.pyplot as plt\n",
    "import numpy as np\n",
    "import seaborn as sns"
   ]
  },
  {
   "cell_type": "markdown",
   "metadata": {},
   "source": [
    "### Considerando a base de dados experimento_test_ab.csv responda as questões abaixo:"
   ]
  },
  {
   "cell_type": "code",
   "execution_count": 4,
   "metadata": {},
   "outputs": [],
   "source": [
    "df_experimento = pd.read_csv('experimento_teste_ab.csv')"
   ]
  },
  {
   "cell_type": "code",
   "execution_count": 9,
   "metadata": {},
   "outputs": [
    {
     "data": {
      "text/html": [
       "<div>\n",
       "<style scoped>\n",
       "    .dataframe tbody tr th:only-of-type {\n",
       "        vertical-align: middle;\n",
       "    }\n",
       "\n",
       "    .dataframe tbody tr th {\n",
       "        vertical-align: top;\n",
       "    }\n",
       "\n",
       "    .dataframe thead th {\n",
       "        text-align: right;\n",
       "    }\n",
       "</style>\n",
       "<table border=\"1\" class=\"dataframe\">\n",
       "  <thead>\n",
       "    <tr style=\"text-align: right;\">\n",
       "      <th></th>\n",
       "      <th>Visitante_ID</th>\n",
       "      <th>Versão_Página</th>\n",
       "      <th>Visualizações</th>\n",
       "      <th>Conversões</th>\n",
       "    </tr>\n",
       "  </thead>\n",
       "  <tbody>\n",
       "    <tr>\n",
       "      <th>0</th>\n",
       "      <td>1</td>\n",
       "      <td>A</td>\n",
       "      <td>167</td>\n",
       "      <td>1</td>\n",
       "    </tr>\n",
       "    <tr>\n",
       "      <th>1</th>\n",
       "      <td>2</td>\n",
       "      <td>A</td>\n",
       "      <td>160</td>\n",
       "      <td>0</td>\n",
       "    </tr>\n",
       "    <tr>\n",
       "      <th>2</th>\n",
       "      <td>3</td>\n",
       "      <td>A</td>\n",
       "      <td>170</td>\n",
       "      <td>0</td>\n",
       "    </tr>\n",
       "    <tr>\n",
       "      <th>3</th>\n",
       "      <td>4</td>\n",
       "      <td>A</td>\n",
       "      <td>161</td>\n",
       "      <td>1</td>\n",
       "    </tr>\n",
       "    <tr>\n",
       "      <th>4</th>\n",
       "      <td>5</td>\n",
       "      <td>A</td>\n",
       "      <td>104</td>\n",
       "      <td>0</td>\n",
       "    </tr>\n",
       "  </tbody>\n",
       "</table>\n",
       "</div>"
      ],
      "text/plain": [
       "   Visitante_ID Versão_Página  Visualizações  Conversões\n",
       "0             1             A            167           1\n",
       "1             2             A            160           0\n",
       "2             3             A            170           0\n",
       "3             4             A            161           1\n",
       "4             5             A            104           0"
      ]
     },
     "execution_count": 9,
     "metadata": {},
     "output_type": "execute_result"
    }
   ],
   "source": [
    "df_experimento.head()"
   ]
  },
  {
   "cell_type": "code",
   "execution_count": 8,
   "metadata": {},
   "outputs": [
    {
     "name": "stdout",
     "output_type": "stream",
     "text": [
      "<class 'pandas.core.frame.DataFrame'>\n",
      "RangeIndex: 2000 entries, 0 to 1999\n",
      "Data columns (total 4 columns):\n",
      " #   Column         Non-Null Count  Dtype \n",
      "---  ------         --------------  ----- \n",
      " 0   Visitante_ID   2000 non-null   int64 \n",
      " 1   Versão_Página  2000 non-null   object\n",
      " 2   Visualizações  2000 non-null   int64 \n",
      " 3   Conversões     2000 non-null   int64 \n",
      "dtypes: int64(3), object(1)\n",
      "memory usage: 62.6+ KB\n"
     ]
    }
   ],
   "source": [
    "df_experimento.info()"
   ]
  },
  {
   "cell_type": "code",
   "execution_count": 10,
   "metadata": {},
   "outputs": [
    {
     "data": {
      "text/html": [
       "<div>\n",
       "<style scoped>\n",
       "    .dataframe tbody tr th:only-of-type {\n",
       "        vertical-align: middle;\n",
       "    }\n",
       "\n",
       "    .dataframe tbody tr th {\n",
       "        vertical-align: top;\n",
       "    }\n",
       "\n",
       "    .dataframe thead th {\n",
       "        text-align: right;\n",
       "    }\n",
       "</style>\n",
       "<table border=\"1\" class=\"dataframe\">\n",
       "  <thead>\n",
       "    <tr style=\"text-align: right;\">\n",
       "      <th></th>\n",
       "      <th>Visitante_ID</th>\n",
       "      <th>Visualizações</th>\n",
       "      <th>Conversões</th>\n",
       "    </tr>\n",
       "  </thead>\n",
       "  <tbody>\n",
       "    <tr>\n",
       "      <th>count</th>\n",
       "      <td>2000.000000</td>\n",
       "      <td>2000.000000</td>\n",
       "      <td>2000.000000</td>\n",
       "    </tr>\n",
       "    <tr>\n",
       "      <th>mean</th>\n",
       "      <td>1000.500000</td>\n",
       "      <td>150.755500</td>\n",
       "      <td>0.115000</td>\n",
       "    </tr>\n",
       "    <tr>\n",
       "      <th>std</th>\n",
       "      <td>577.494589</td>\n",
       "      <td>28.809421</td>\n",
       "      <td>0.319102</td>\n",
       "    </tr>\n",
       "    <tr>\n",
       "      <th>min</th>\n",
       "      <td>1.000000</td>\n",
       "      <td>100.000000</td>\n",
       "      <td>0.000000</td>\n",
       "    </tr>\n",
       "    <tr>\n",
       "      <th>25%</th>\n",
       "      <td>500.750000</td>\n",
       "      <td>126.000000</td>\n",
       "      <td>0.000000</td>\n",
       "    </tr>\n",
       "    <tr>\n",
       "      <th>50%</th>\n",
       "      <td>1000.500000</td>\n",
       "      <td>151.000000</td>\n",
       "      <td>0.000000</td>\n",
       "    </tr>\n",
       "    <tr>\n",
       "      <th>75%</th>\n",
       "      <td>1500.250000</td>\n",
       "      <td>175.000000</td>\n",
       "      <td>0.000000</td>\n",
       "    </tr>\n",
       "    <tr>\n",
       "      <th>max</th>\n",
       "      <td>2000.000000</td>\n",
       "      <td>199.000000</td>\n",
       "      <td>1.000000</td>\n",
       "    </tr>\n",
       "  </tbody>\n",
       "</table>\n",
       "</div>"
      ],
      "text/plain": [
       "       Visitante_ID  Visualizações   Conversões\n",
       "count   2000.000000    2000.000000  2000.000000\n",
       "mean    1000.500000     150.755500     0.115000\n",
       "std      577.494589      28.809421     0.319102\n",
       "min        1.000000     100.000000     0.000000\n",
       "25%      500.750000     126.000000     0.000000\n",
       "50%     1000.500000     151.000000     0.000000\n",
       "75%     1500.250000     175.000000     0.000000\n",
       "max     2000.000000     199.000000     1.000000"
      ]
     },
     "execution_count": 10,
     "metadata": {},
     "output_type": "execute_result"
    }
   ],
   "source": [
    "df_experimento.describe()"
   ]
  },
  {
   "cell_type": "markdown",
   "metadata": {},
   "source": [
    "1. Qual dos cenários tem a maior taxa de conversão?"
   ]
  },
  {
   "cell_type": "code",
   "execution_count": 5,
   "metadata": {},
   "outputs": [],
   "source": [
    "df_experimento_a = df_experimento.loc[df_experimento['Versão_Página'] == \"A\"]"
   ]
  },
  {
   "cell_type": "code",
   "execution_count": 7,
   "metadata": {},
   "outputs": [],
   "source": [
    "visualizacoes_a = df_experimento_a['Visualizações'].sum()"
   ]
  },
  {
   "cell_type": "code",
   "execution_count": 6,
   "metadata": {},
   "outputs": [],
   "source": [
    "conversao_a = df_experimento_a['Conversões'].sum()"
   ]
  },
  {
   "cell_type": "code",
   "execution_count": 8,
   "metadata": {},
   "outputs": [],
   "source": [
    "df_experimento_b = df_experimento.loc[df_experimento['Versão_Página'] == \"B\"]"
   ]
  },
  {
   "cell_type": "code",
   "execution_count": 9,
   "metadata": {},
   "outputs": [],
   "source": [
    "visualizacoes_b = df_experimento_b['Visualizações'].sum()"
   ]
  },
  {
   "cell_type": "code",
   "execution_count": 10,
   "metadata": {},
   "outputs": [],
   "source": [
    "conversao_b = df_experimento_b['Conversões'].sum()"
   ]
  },
  {
   "cell_type": "code",
   "execution_count": 11,
   "metadata": {},
   "outputs": [],
   "source": [
    "taxa_conversao_a = conversao_a / visualizacoes_a\n",
    "taxa_conversao_b = conversao_b / visualizacoes_b"
   ]
  },
  {
   "cell_type": "code",
   "execution_count": 12,
   "metadata": {},
   "outputs": [
    {
     "name": "stdout",
     "output_type": "stream",
     "text": [
      "Taxa de conversão da Versão A: 0.06961249046971857%.\n",
      "Taxa de conversão da Versão B: 0.08295946268815206%.\n"
     ]
    }
   ],
   "source": [
    "print(f'Taxa de conversão da Versão A: {taxa_conversao_a * 100}%.')\n",
    "print(f'Taxa de conversão da Versão B: {taxa_conversao_b * 100}%.')"
   ]
  },
  {
   "cell_type": "markdown",
   "metadata": {},
   "source": [
    "2. Calcule qual o tamanho da amostra necessária para o desenvolvimento\n",
    "de um teste A/B, seguindo os seguintes critérios:"
   ]
  },
  {
   "cell_type": "markdown",
   "metadata": {},
   "source": [
    "a. O cenário A, da base, como o inicial, que funciona hoje."
   ]
  },
  {
   "cell_type": "markdown",
   "metadata": {},
   "source": [
    "b. Considere 95% de confiança de que o efeito na conversão não foi\n",
    "aleatório com um nível de significância de 5% (alpha = 0,05)."
   ]
  },
  {
   "cell_type": "markdown",
   "metadata": {},
   "source": [
    "c. Também considere 80% de certeza conseguir capturar o efeito\n",
    "da nova abordagem."
   ]
  },
  {
   "cell_type": "markdown",
   "metadata": {},
   "source": [
    "d. O aumento para 10% de conversão."
   ]
  },
  {
   "cell_type": "code",
   "execution_count": 17,
   "metadata": {},
   "outputs": [],
   "source": [
    "alpha = 0.05\n",
    "beta = 0.2\n",
    "nova_conversao = (taxa_conversao_a*(1 + 0.1))\n",
    "variancia_a = df_experimento_a['Conversões'].var()"
   ]
  },
  {
   "cell_type": "code",
   "execution_count": 18,
   "metadata": {},
   "outputs": [
    {
     "name": "stdout",
     "output_type": "stream",
     "text": [
      "0.0006961249046971857\n"
     ]
    }
   ],
   "source": [
    "print(taxa_conversao_a)"
   ]
  },
  {
   "cell_type": "code",
   "execution_count": 15,
   "metadata": {},
   "outputs": [
    {
     "name": "stdout",
     "output_type": "stream",
     "text": [
      "0.0007657373951669042\n"
     ]
    }
   ],
   "source": [
    "print(nova_conversao)"
   ]
  },
  {
   "cell_type": "code",
   "execution_count": 26,
   "metadata": {},
   "outputs": [
    {
     "name": "stdout",
     "output_type": "stream",
     "text": [
      "6.961249046971859e-05\n"
     ]
    }
   ],
   "source": [
    "##Delta\n",
    "delta_a = 0.0007657373951669042 - 0.0006961249046971857\n",
    "print(delta_a)"
   ]
  },
  {
   "cell_type": "code",
   "execution_count": 23,
   "metadata": {},
   "outputs": [
    {
     "name": "stdout",
     "output_type": "stream",
     "text": [
      "Z(1-alpha/2) : 1.959963984540054\n"
     ]
    }
   ],
   "source": [
    "## Z(1-alpha/2)\n",
    "alpha_zscore = stats.norm.ppf(1-alpha/2)\n",
    "print('Z(1-alpha/2) : {}'.format(str(alpha_zscore)))"
   ]
  },
  {
   "cell_type": "code",
   "execution_count": 22,
   "metadata": {},
   "outputs": [
    {
     "name": "stdout",
     "output_type": "stream",
     "text": [
      "Z(1-beta): 0.8416212335729143\n"
     ]
    }
   ],
   "source": [
    "## Z(1-beta)\n",
    "beta_zscore = stats.norm.ppf(1-beta)\n",
    "print('Z(1-beta): {}'.format(str(beta_zscore)))"
   ]
  },
  {
   "cell_type": "code",
   "execution_count": 24,
   "metadata": {},
   "outputs": [
    {
     "name": "stdout",
     "output_type": "stream",
     "text": [
      "Variância estimada: 0.18813813813813812\n"
     ]
    }
   ],
   "source": [
    "var = 2 * variancia_a\n",
    "print('Variância estimada: {}'.format(str(var)))"
   ]
  },
  {
   "cell_type": "code",
   "execution_count": 25,
   "metadata": {},
   "outputs": [
    {
     "name": "stdout",
     "output_type": "stream",
     "text": [
      "Amostra necessária para o grupo A: 21212.768135812556\n",
      "Amostra necessária para o teste AB: 42425.53627162511\n"
     ]
    }
   ],
   "source": [
    "## Fórmula\n",
    "n = (((alpha_zscore + beta_zscore)**2)*var)/delta_a\n",
    "print(f'Amostra necessária para o grupo A: {n}')\n",
    "print(f'Amostra necessária para o teste AB: {n*2}')"
   ]
  },
  {
   "cell_type": "markdown",
   "metadata": {},
   "source": [
    "Verifique a base pacientes.csv, os dados são fictícios. A sintetiza uma base\n",
    "de dados de um hospital que trata de pacientes com problemas cardíacos.\n",
    "Considere a base como a população, portanto as estatísticas da população\n",
    "são conhecidas. Responda as perguntas abaixo:\n"
   ]
  },
  {
   "cell_type": "code",
   "execution_count": 37,
   "metadata": {},
   "outputs": [],
   "source": [
    "df_pacientes = pd.read_csv('pacientes.csv')"
   ]
  },
  {
   "cell_type": "code",
   "execution_count": 46,
   "metadata": {},
   "outputs": [
    {
     "data": {
      "text/html": [
       "<div>\n",
       "<style scoped>\n",
       "    .dataframe tbody tr th:only-of-type {\n",
       "        vertical-align: middle;\n",
       "    }\n",
       "\n",
       "    .dataframe tbody tr th {\n",
       "        vertical-align: top;\n",
       "    }\n",
       "\n",
       "    .dataframe thead th {\n",
       "        text-align: right;\n",
       "    }\n",
       "</style>\n",
       "<table border=\"1\" class=\"dataframe\">\n",
       "  <thead>\n",
       "    <tr style=\"text-align: right;\">\n",
       "      <th></th>\n",
       "      <th>Pressão Arterial</th>\n",
       "      <th>Idade</th>\n",
       "      <th>Gênero</th>\n",
       "      <th>Etnia</th>\n",
       "      <th>Estado de Saúde</th>\n",
       "    </tr>\n",
       "  </thead>\n",
       "  <tbody>\n",
       "    <tr>\n",
       "      <th>0</th>\n",
       "      <td>142.755809</td>\n",
       "      <td>31</td>\n",
       "      <td>Feminino</td>\n",
       "      <td>Afro-americano</td>\n",
       "      <td>Com condições de saúde adicionais</td>\n",
       "    </tr>\n",
       "    <tr>\n",
       "      <th>1</th>\n",
       "      <td>161.878468</td>\n",
       "      <td>35</td>\n",
       "      <td>Feminino</td>\n",
       "      <td>Afro-americano</td>\n",
       "      <td>Saudável</td>\n",
       "    </tr>\n",
       "    <tr>\n",
       "      <th>2</th>\n",
       "      <td>161.508259</td>\n",
       "      <td>39</td>\n",
       "      <td>Masculino</td>\n",
       "      <td>Asiático</td>\n",
       "      <td>Com condições de saúde adicionais</td>\n",
       "    </tr>\n",
       "    <tr>\n",
       "      <th>3</th>\n",
       "      <td>144.979408</td>\n",
       "      <td>43</td>\n",
       "      <td>Feminino</td>\n",
       "      <td>Asiático</td>\n",
       "      <td>Com condições de saúde adicionais</td>\n",
       "    </tr>\n",
       "    <tr>\n",
       "      <th>4</th>\n",
       "      <td>162.502954</td>\n",
       "      <td>55</td>\n",
       "      <td>Masculino</td>\n",
       "      <td>Hispânico</td>\n",
       "      <td>Com condições de saúde adicionais</td>\n",
       "    </tr>\n",
       "  </tbody>\n",
       "</table>\n",
       "</div>"
      ],
      "text/plain": [
       "   Pressão Arterial  Idade     Gênero           Etnia  \\\n",
       "0        142.755809     31   Feminino  Afro-americano   \n",
       "1        161.878468     35   Feminino  Afro-americano   \n",
       "2        161.508259     39  Masculino        Asiático   \n",
       "3        144.979408     43   Feminino        Asiático   \n",
       "4        162.502954     55  Masculino       Hispânico   \n",
       "\n",
       "                     Estado de Saúde  \n",
       "0  Com condições de saúde adicionais  \n",
       "1                           Saudável  \n",
       "2  Com condições de saúde adicionais  \n",
       "3  Com condições de saúde adicionais  \n",
       "4  Com condições de saúde adicionais  "
      ]
     },
     "execution_count": 46,
     "metadata": {},
     "output_type": "execute_result"
    }
   ],
   "source": [
    "df_pacientes.head()"
   ]
  },
  {
   "cell_type": "code",
   "execution_count": 39,
   "metadata": {},
   "outputs": [],
   "source": [
    "df_pacientes = df_pacientes.drop(columns=[\"Unnamed: 0\", \"Genero\", \"Etnia\", \"Estado_Saude\"])"
   ]
  },
  {
   "cell_type": "code",
   "execution_count": 44,
   "metadata": {},
   "outputs": [],
   "source": [
    "nomes_colunas = {\"Pressao_Arterial\": \"Pressão Arterial\", \n",
    "                \"Idade:\": \"Idade\", \n",
    "                \"Nome_Genero\": \"Gênero\",\n",
    "                \"Nome_Etnia\": \"Etnia\", \n",
    "                \"Nome_Estado_Saude\": \"Estado de Saúde\"\n",
    "                }"
   ]
  },
  {
   "cell_type": "code",
   "execution_count": 45,
   "metadata": {},
   "outputs": [],
   "source": [
    "df_pacientes = df_pacientes.rename(columns=nomes_colunas)"
   ]
  },
  {
   "cell_type": "markdown",
   "metadata": {},
   "source": [
    "3. Considerando uma amostra de 45 números que representam o index do\n",
    "dataframe, índices= ([909, 751, 402, 400, 726, 39, 184, 269, 255, 769,\n",
    "209, 715, 677, 381, 793, 697, 89, 280, 232, 756, 358, 36, 439, 768, 967,\n",
    "699, 473, 222, 89, 639, 883, 558, 757, 84, 907, 895, 217, 224, 311, 348,\n",
    "146, 505, 273, 957, 362]). Considerando essa amostra é possível dizer\n",
    "que a idade média das pessoas com problemas cardíacos é maior que\n",
    "50 anos? Nível de significância igual a 5%"
   ]
  },
  {
   "cell_type": "markdown",
   "metadata": {},
   "source": [
    "H0: Pacientes com problemas cardíacos na amostra tem => 50 anos\n",
    "<br>H1: Pacientes com problemas cardíacos na amostra tem < 50 anos"
   ]
  },
  {
   "cell_type": "code",
   "execution_count": 95,
   "metadata": {},
   "outputs": [],
   "source": [
    "q3_alpha = 0.05"
   ]
  },
  {
   "cell_type": "code",
   "execution_count": 51,
   "metadata": {},
   "outputs": [],
   "source": [
    "q3_indices = [909, 751, 402, 400, 726, 39, 184, 269, 255, 769,\n",
    "209, 715, 677, 381, 793, 697, 89, 280, 232, 756, 358, 36, 439, 768, 967,\n",
    "699, 473, 222, 639, 883, 558, 757, 84, 907, 895, 217, 224, 311, 348,\n",
    "146, 505, 273, 957, 362]"
   ]
  },
  {
   "cell_type": "code",
   "execution_count": 52,
   "metadata": {},
   "outputs": [],
   "source": [
    "q3_indices.sort()"
   ]
  },
  {
   "cell_type": "code",
   "execution_count": 53,
   "metadata": {},
   "outputs": [
    {
     "name": "stdout",
     "output_type": "stream",
     "text": [
      "[36, 39, 84, 89, 146, 184, 209, 217, 222, 224, 232, 255, 269, 273, 280, 311, 348, 358, 362, 381, 400, 402, 439, 473, 505, 558, 639, 677, 697, 699, 715, 726, 751, 756, 757, 768, 769, 793, 883, 895, 907, 909, 957, 967]\n"
     ]
    }
   ],
   "source": [
    "print(q3_indices)"
   ]
  },
  {
   "cell_type": "code",
   "execution_count": 55,
   "metadata": {},
   "outputs": [],
   "source": [
    "q3_df = df_pacientes.iloc[q3_indices, :]"
   ]
  },
  {
   "cell_type": "code",
   "execution_count": 59,
   "metadata": {},
   "outputs": [
    {
     "data": {
      "text/html": [
       "<div>\n",
       "<style scoped>\n",
       "    .dataframe tbody tr th:only-of-type {\n",
       "        vertical-align: middle;\n",
       "    }\n",
       "\n",
       "    .dataframe tbody tr th {\n",
       "        vertical-align: top;\n",
       "    }\n",
       "\n",
       "    .dataframe thead th {\n",
       "        text-align: right;\n",
       "    }\n",
       "</style>\n",
       "<table border=\"1\" class=\"dataframe\">\n",
       "  <thead>\n",
       "    <tr style=\"text-align: right;\">\n",
       "      <th></th>\n",
       "      <th>Pressão Arterial</th>\n",
       "      <th>Idade</th>\n",
       "      <th>Gênero</th>\n",
       "      <th>Etnia</th>\n",
       "      <th>Estado de Saúde</th>\n",
       "    </tr>\n",
       "  </thead>\n",
       "  <tbody>\n",
       "    <tr>\n",
       "      <th>36</th>\n",
       "      <td>168.708224</td>\n",
       "      <td>41</td>\n",
       "      <td>Feminino</td>\n",
       "      <td>Asiático</td>\n",
       "      <td>Com condições de saúde adicionais</td>\n",
       "    </tr>\n",
       "    <tr>\n",
       "      <th>255</th>\n",
       "      <td>138.792482</td>\n",
       "      <td>51</td>\n",
       "      <td>Masculino</td>\n",
       "      <td>Hispânico</td>\n",
       "      <td>Com condições de saúde adicionais</td>\n",
       "    </tr>\n",
       "    <tr>\n",
       "      <th>273</th>\n",
       "      <td>155.225487</td>\n",
       "      <td>30</td>\n",
       "      <td>Feminino</td>\n",
       "      <td>Asiático</td>\n",
       "      <td>Com condições de saúde adicionais</td>\n",
       "    </tr>\n",
       "    <tr>\n",
       "      <th>280</th>\n",
       "      <td>157.210190</td>\n",
       "      <td>35</td>\n",
       "      <td>Masculino</td>\n",
       "      <td>Hispânico</td>\n",
       "      <td>Com condições de saúde adicionais</td>\n",
       "    </tr>\n",
       "    <tr>\n",
       "      <th>348</th>\n",
       "      <td>151.010737</td>\n",
       "      <td>41</td>\n",
       "      <td>Feminino</td>\n",
       "      <td>Asiático</td>\n",
       "      <td>Com condições de saúde adicionais</td>\n",
       "    </tr>\n",
       "    <tr>\n",
       "      <th>381</th>\n",
       "      <td>168.672232</td>\n",
       "      <td>55</td>\n",
       "      <td>Masculino</td>\n",
       "      <td>Caucasiano</td>\n",
       "      <td>Com condições de saúde adicionais</td>\n",
       "    </tr>\n",
       "    <tr>\n",
       "      <th>439</th>\n",
       "      <td>133.793399</td>\n",
       "      <td>59</td>\n",
       "      <td>Feminino</td>\n",
       "      <td>Afro-americano</td>\n",
       "      <td>Com condições de saúde adicionais</td>\n",
       "    </tr>\n",
       "    <tr>\n",
       "      <th>473</th>\n",
       "      <td>151.414348</td>\n",
       "      <td>59</td>\n",
       "      <td>Masculino</td>\n",
       "      <td>Asiático</td>\n",
       "      <td>Com condições de saúde adicionais</td>\n",
       "    </tr>\n",
       "    <tr>\n",
       "      <th>505</th>\n",
       "      <td>153.469130</td>\n",
       "      <td>39</td>\n",
       "      <td>Feminino</td>\n",
       "      <td>Afro-americano</td>\n",
       "      <td>Com condições de saúde adicionais</td>\n",
       "    </tr>\n",
       "    <tr>\n",
       "      <th>639</th>\n",
       "      <td>149.722494</td>\n",
       "      <td>35</td>\n",
       "      <td>Feminino</td>\n",
       "      <td>Afro-americano</td>\n",
       "      <td>Com condições de saúde adicionais</td>\n",
       "    </tr>\n",
       "    <tr>\n",
       "      <th>697</th>\n",
       "      <td>129.717884</td>\n",
       "      <td>70</td>\n",
       "      <td>Feminino</td>\n",
       "      <td>Caucasiano</td>\n",
       "      <td>Com condições de saúde adicionais</td>\n",
       "    </tr>\n",
       "    <tr>\n",
       "      <th>699</th>\n",
       "      <td>141.629423</td>\n",
       "      <td>53</td>\n",
       "      <td>Feminino</td>\n",
       "      <td>Caucasiano</td>\n",
       "      <td>Com condições de saúde adicionais</td>\n",
       "    </tr>\n",
       "    <tr>\n",
       "      <th>715</th>\n",
       "      <td>144.225759</td>\n",
       "      <td>39</td>\n",
       "      <td>Feminino</td>\n",
       "      <td>Caucasiano</td>\n",
       "      <td>Com condições de saúde adicionais</td>\n",
       "    </tr>\n",
       "    <tr>\n",
       "      <th>726</th>\n",
       "      <td>148.562048</td>\n",
       "      <td>62</td>\n",
       "      <td>Masculino</td>\n",
       "      <td>Afro-americano</td>\n",
       "      <td>Com condições de saúde adicionais</td>\n",
       "    </tr>\n",
       "    <tr>\n",
       "      <th>751</th>\n",
       "      <td>145.660949</td>\n",
       "      <td>34</td>\n",
       "      <td>Masculino</td>\n",
       "      <td>Caucasiano</td>\n",
       "      <td>Com condições de saúde adicionais</td>\n",
       "    </tr>\n",
       "    <tr>\n",
       "      <th>768</th>\n",
       "      <td>156.592028</td>\n",
       "      <td>46</td>\n",
       "      <td>Feminino</td>\n",
       "      <td>Hispânico</td>\n",
       "      <td>Com condições de saúde adicionais</td>\n",
       "    </tr>\n",
       "    <tr>\n",
       "      <th>907</th>\n",
       "      <td>136.310057</td>\n",
       "      <td>70</td>\n",
       "      <td>Feminino</td>\n",
       "      <td>Afro-americano</td>\n",
       "      <td>Com condições de saúde adicionais</td>\n",
       "    </tr>\n",
       "    <tr>\n",
       "      <th>909</th>\n",
       "      <td>152.940055</td>\n",
       "      <td>49</td>\n",
       "      <td>Masculino</td>\n",
       "      <td>Caucasiano</td>\n",
       "      <td>Com condições de saúde adicionais</td>\n",
       "    </tr>\n",
       "    <tr>\n",
       "      <th>967</th>\n",
       "      <td>155.823408</td>\n",
       "      <td>47</td>\n",
       "      <td>Feminino</td>\n",
       "      <td>Hispânico</td>\n",
       "      <td>Com condições de saúde adicionais</td>\n",
       "    </tr>\n",
       "  </tbody>\n",
       "</table>\n",
       "</div>"
      ],
      "text/plain": [
       "     Pressão Arterial  Idade     Gênero           Etnia  \\\n",
       "36         168.708224     41   Feminino        Asiático   \n",
       "255        138.792482     51  Masculino       Hispânico   \n",
       "273        155.225487     30   Feminino        Asiático   \n",
       "280        157.210190     35  Masculino       Hispânico   \n",
       "348        151.010737     41   Feminino        Asiático   \n",
       "381        168.672232     55  Masculino      Caucasiano   \n",
       "439        133.793399     59   Feminino  Afro-americano   \n",
       "473        151.414348     59  Masculino        Asiático   \n",
       "505        153.469130     39   Feminino  Afro-americano   \n",
       "639        149.722494     35   Feminino  Afro-americano   \n",
       "697        129.717884     70   Feminino      Caucasiano   \n",
       "699        141.629423     53   Feminino      Caucasiano   \n",
       "715        144.225759     39   Feminino      Caucasiano   \n",
       "726        148.562048     62  Masculino  Afro-americano   \n",
       "751        145.660949     34  Masculino      Caucasiano   \n",
       "768        156.592028     46   Feminino       Hispânico   \n",
       "907        136.310057     70   Feminino  Afro-americano   \n",
       "909        152.940055     49  Masculino      Caucasiano   \n",
       "967        155.823408     47   Feminino       Hispânico   \n",
       "\n",
       "                       Estado de Saúde  \n",
       "36   Com condições de saúde adicionais  \n",
       "255  Com condições de saúde adicionais  \n",
       "273  Com condições de saúde adicionais  \n",
       "280  Com condições de saúde adicionais  \n",
       "348  Com condições de saúde adicionais  \n",
       "381  Com condições de saúde adicionais  \n",
       "439  Com condições de saúde adicionais  \n",
       "473  Com condições de saúde adicionais  \n",
       "505  Com condições de saúde adicionais  \n",
       "639  Com condições de saúde adicionais  \n",
       "697  Com condições de saúde adicionais  \n",
       "699  Com condições de saúde adicionais  \n",
       "715  Com condições de saúde adicionais  \n",
       "726  Com condições de saúde adicionais  \n",
       "751  Com condições de saúde adicionais  \n",
       "768  Com condições de saúde adicionais  \n",
       "907  Com condições de saúde adicionais  \n",
       "909  Com condições de saúde adicionais  \n",
       "967  Com condições de saúde adicionais  "
      ]
     },
     "execution_count": 59,
     "metadata": {},
     "output_type": "execute_result"
    }
   ],
   "source": [
    "q3_df"
   ]
  },
  {
   "cell_type": "code",
   "execution_count": 58,
   "metadata": {},
   "outputs": [],
   "source": [
    "q3_df = q3_df.loc[q3_df[\"Estado de Saúde\"] == \"Com condições de saúde adicionais\"]"
   ]
  },
  {
   "cell_type": "code",
   "execution_count": 97,
   "metadata": {},
   "outputs": [
    {
     "data": {
      "text/plain": [
       "19"
      ]
     },
     "execution_count": 97,
     "metadata": {},
     "output_type": "execute_result"
    }
   ],
   "source": [
    "q3_df.shape[0] #quantidade de pessoas na amostra"
   ]
  },
  {
   "cell_type": "code",
   "execution_count": 94,
   "metadata": {},
   "outputs": [
    {
     "data": {
      "text/plain": [
       "Text(0.5, 1.0, 'Histograma das idades dos pacientes do df3')"
      ]
     },
     "execution_count": 94,
     "metadata": {},
     "output_type": "execute_result"
    },
    {
     "data": {
      "image/png": "[encoded data removed]",
      "text/plain": [
       "<Figure size 500x500 with 1 Axes>"
      ]
     },
     "metadata": {},
     "output_type": "display_data"
    }
   ],
   "source": [
    "sns.displot(q3_df[\"Idade\"], kde=True, bins=10, color = 'darkblue')\n",
    "plt.xlabel(\"Idades\")\n",
    "plt.ylabel(\"Quantidade\")\n",
    "plt.title(\"Histograma das idades dos pacientes do df3\")"
   ]
  },
  {
   "cell_type": "code",
   "execution_count": 98,
   "metadata": {},
   "outputs": [],
   "source": [
    "#Teste T\n",
    "q3_x = q3_df['Idade'].mean()\n",
    "q3_u = 50\n",
    "q3_s = q3_df['Idade'].std()\n",
    "q3_n = q3_df.shape[0]"
   ]
  },
  {
   "cell_type": "code",
   "execution_count": 99,
   "metadata": {},
   "outputs": [],
   "source": [
    "q3_t = (q3_x - q3_u) /(q3_s/(q3_n^2))"
   ]
  },
  {
   "cell_type": "code",
   "execution_count": 101,
   "metadata": {},
   "outputs": [],
   "source": [
    "# P-valor\n",
    "q3_p_valor = stats.norm.sf(abs(q3_t))"
   ]
  },
  {
   "cell_type": "code",
   "execution_count": 104,
   "metadata": {},
   "outputs": [
    {
     "name": "stdout",
     "output_type": "stream",
     "text": [
      "A hipótese nula foi rejeitada, a média das pessoas na amostra possuem menos de 50 anos.\n"
     ]
    }
   ],
   "source": [
    "if alpha > q3_p_valor:\n",
    "    print(\"A hipótese nula foi rejeitada, a média das pessoas na amostra possuem menos de 50 anos.\")\n",
    "else:\n",
    "    print(\"A hipótese nula não foi rejeitada, a média das pessoas na amostra possuem mais de 50 anos.\")"
   ]
  },
  {
   "cell_type": "markdown",
   "metadata": {},
   "source": [
    "4. Queremos entender que tipo de amostra estamos lidando se dividirmos\n",
    "os conjuntos em 2, sendo um com pessoas que têm condições de\n",
    "saúde adicionais e o outro com pessoas saudáveis. Seria dependente\n",
    "ou independente?"
   ]
  },
  {
   "cell_type": "markdown",
   "metadata": {},
   "source": [
    "5. Agora considere o um conjunto de pessoas aleatória que representam\n",
    "o index do dataframe, índices = ([690, 894, 67, 201, 364, 19, 60, 319,\n",
    "588, 643, 855, 623, 530, 174, 105, 693, 6, 462, 973, 607, 811, 346, 354,\n",
    "Da engenharia à liderança, conectamos mulheres\n",
    "que querem fazer a diferença\n",
    "na tecnologia e inovação.\n",
    "womakerscode.org\n",
    "966, 943, 372]), podemos dizer que a pressão arterial média para\n",
    "pacientes com condições de saúde adicionais é igual à pressão arterial\n",
    "média para pacientes sem condições adicionais de saúde? Considere o\n",
    "nível de significância a 6%."
   ]
  },
  {
   "cell_type": "markdown",
   "metadata": {},
   "source": [
    "6. Existe uma diferença significativa na pressão arterial média entre\n",
    "diferentes grupos étnicos nesta população? (Teste ANOVA, alpha é 5%)\n",
    "<br>a. Hipótese Nula (H0): A pressão arterial média é a mesma em todos\n",
    "os grupos étnicos.\n",
    "<br>b. Hipótese Alternativa (H1): Há uma diferença significativa na\n",
    "pressão arterial média entre pelo menos dois grupos étnicos\n",
    "nesta população"
   ]
  },
  {
   "cell_type": "markdown",
   "metadata": {},
   "source": [
    "7. Lúcia é uma pesquisadora e tem o objetivo de entender a relação de\n",
    "gênero neste grupo de pacientes. Acredita-se que há uma relação\n",
    "entre o sexo e condições de saúde adicionais. (Teste qui-quadrado)"
   ]
  },
  {
   "cell_type": "markdown",
   "metadata": {},
   "source": [
    "8. Existe uma associação entre a idade dos pacientes e sua pressão\n",
    "arterial?\n",
    "<br>a. Hipótese Nula (H0): A idade dos pacientes é independente da\n",
    "pressão arterial.\n",
    "<br>b. Hipótese Alternativa (H1): A idade dos pacientes está associada à\n",
    "sua pressão arterial"
   ]
  },
  {
   "cell_type": "markdown",
   "metadata": {},
   "source": [
    "9. Qual é o intervalo de confiança para a média da pressão arterial entre\n",
    "os pacientes com condições de saúde adicionais? (nível de confiança\n",
    "95%)\n"
   ]
  },
  {
   "cell_type": "markdown",
   "metadata": {},
   "source": [
    "10. A distribuição da pressão arterial na população segue uma distribuição\n",
    "normal?\n",
    "<br>a. Hipótese Nula (H0): A distribuição da pressão arterial na\n",
    "população segue uma distribuição normal.\n",
    "<br>b. Hipótese Alternativa (H1): A distribuição da pressão arterial na\n",
    "população não segue uma distribuição normal."
   ]
  }
 ],
 "metadata": {
  "kernelspec": {
   "display_name": "Python 3",
   "language": "python",
   "name": "python3"
  },
  "language_info": {
   "codemirror_mode": {
    "name": "ipython",
    "version": 3
   },
   "file_extension": ".py",
   "mimetype": "text/x-python",
   "name": "python",
   "nbconvert_exporter": "python",
   "pygments_lexer": "ipython3",
   "version": "3.12.0"
  }
 },
 "nbformat": 4,
 "nbformat_minor": 2
}
