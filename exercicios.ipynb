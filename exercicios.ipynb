{
 "cells": [
  {
   "cell_type": "code",
   "execution_count": null,
   "metadata": {},
   "outputs": [],
   "source": []
  },
  {
   "cell_type": "markdown",
   "metadata": {},
   "source": [
    "### Considerando a base de dados experimento_test_ab.csv responda as questões abaixo:"
   ]
  },
  {
   "cell_type": "markdown",
   "metadata": {},
   "source": [
    "1. Qual dos cenários tem a maior taxa de conversão?"
   ]
  },
  {
   "cell_type": "markdown",
   "metadata": {},
   "source": [
    "2. Calcule qual o tamanho da amostra necessária para o desenvolvimento\n",
    "de um teste A/B, seguindo os seguintes critérios:"
   ]
  },
  {
   "cell_type": "markdown",
   "metadata": {},
   "source": [
    "a. O cenário A, da base, como o inicial, que funciona hoje."
   ]
  },
  {
   "cell_type": "markdown",
   "metadata": {},
   "source": [
    "b. Considere 95% de confiança de que o efeito na conversão não foi\n",
    "aleatório com um nível de significância de 5% (alpha = 0,05)."
   ]
  },
  {
   "cell_type": "markdown",
   "metadata": {},
   "source": [
    "c. Também considere 80% de certeza conseguir capturar o efeito\n",
    "da nova abordagem."
   ]
  },
  {
   "cell_type": "markdown",
   "metadata": {},
   "source": [
    "d. O aumento para 10% de conversão."
   ]
  },
  {
   "cell_type": "markdown",
   "metadata": {},
   "source": [
    "Verifique a base pacientes.csv, os dados são fictícios. A sintetiza uma base\n",
    "de dados de um hospital que trata de pacientes com problemas cardíacos.\n",
    "Considere a base como a população, portanto as estatísticas da população\n",
    "são conhecidas. Responda as perguntas abaixo:\n"
   ]
  },
  {
   "cell_type": "markdown",
   "metadata": {},
   "source": [
    "3. Considerando uma amostra de 45 números que representam o index do\n",
    "dataframe, índices= ([909, 751, 402, 400, 726, 39, 184, 269, 255, 769,\n",
    "209, 715, 677, 381, 793, 697, 89, 280, 232, 756, 358, 36, 439, 768, 967,\n",
    "699, 473, 222, 89, 639, 883, 558, 757, 84, 907, 895, 217, 224, 311, 348,\n",
    "146, 505, 273, 957, 362]). Considerando essa amostra é possível dizer\n",
    "que a idade média das pessoas com problemas cardíacos é maior que\n",
    "50 anos? Nível de significância igual a 5%"
   ]
  },
  {
   "cell_type": "markdown",
   "metadata": {},
   "source": [
    "4. Queremos entender que tipo de amostra estamos lidando se dividirmos\n",
    "os conjuntos em 2, sendo um com pessoas que têm condições de\n",
    "saúde adicionais e o outro com pessoas saudáveis. Seria dependente\n",
    "ou independente?"
   ]
  },
  {
   "cell_type": "markdown",
   "metadata": {},
   "source": [
    "5. Agora considere o um conjunto de pessoas aleatória que representam\n",
    "o index do dataframe, índices = ([690, 894, 67, 201, 364, 19, 60, 319,\n",
    "588, 643, 855, 623, 530, 174, 105, 693, 6, 462, 973, 607, 811, 346, 354,\n",
    "Da engenharia à liderança, conectamos mulheres\n",
    "que querem fazer a diferença\n",
    "na tecnologia e inovação.\n",
    "womakerscode.org\n",
    "966, 943, 372]), podemos dizer que a pressão arterial média para\n",
    "pacientes com condições de saúde adicionais é igual à pressão arterial\n",
    "média para pacientes sem condições adicionais de saúde? Considere o\n",
    "nível de significância a 6%."
   ]
  },
  {
   "cell_type": "markdown",
   "metadata": {},
   "source": [
    "6. Existe uma diferença significativa na pressão arterial média entre\n",
    "diferentes grupos étnicos nesta população? (Teste ANOVA, alpha é 5%)\n",
    "<br>a. Hipótese Nula (H0): A pressão arterial média é a mesma em todos\n",
    "os grupos étnicos.\n",
    "<br>b. Hipótese Alternativa (H1): Há uma diferença significativa na\n",
    "pressão arterial média entre pelo menos dois grupos étnicos\n",
    "nesta população"
   ]
  },
  {
   "cell_type": "markdown",
   "metadata": {},
   "source": [
    "7. Lúcia é uma pesquisadora e tem o objetivo de entender a relação de\n",
    "gênero neste grupo de pacientes. Acredita-se que há uma relação\n",
    "entre o sexo e condições de saúde adicionais. (Teste qui-quadrado)"
   ]
  },
  {
   "cell_type": "markdown",
   "metadata": {},
   "source": [
    "8. Existe uma associação entre a idade dos pacientes e sua pressão\n",
    "arterial?\n",
    "<br>a. Hipótese Nula (H0): A idade dos pacientes é independente da\n",
    "pressão arterial.\n",
    "<br>b. Hipótese Alternativa (H1): A idade dos pacientes está associada à\n",
    "sua pressão arterial"
   ]
  },
  {
   "cell_type": "markdown",
   "metadata": {},
   "source": [
    "9. Qual é o intervalo de confiança para a média da pressão arterial entre\n",
    "os pacientes com condições de saúde adicionais? (nível de confiança\n",
    "95%)\n"
   ]
  },
  {
   "cell_type": "markdown",
   "metadata": {},
   "source": [
    "10. A distribuição da pressão arterial na população segue uma distribuição\n",
    "normal?\n",
    "<br>a. Hipótese Nula (H0): A distribuição da pressão arterial na\n",
    "população segue uma distribuição normal.\n",
    "<br>b. Hipótese Alternativa (H1): A distribuição da pressão arterial na\n",
    "população não segue uma distribuição normal."
   ]
  }
 ],
 "metadata": {
  "language_info": {
   "name": "python"
  }
 },
 "nbformat": 4,
 "nbformat_minor": 2
}
